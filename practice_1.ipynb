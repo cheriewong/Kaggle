{
 "cells": [
  {
   "cell_type": "code",
   "execution_count": 14,
   "metadata": {},
   "outputs": [
    {
     "name": "stdout",
     "output_type": "stream",
     "text": [
      "libraries all imported, ready to go\n"
     ]
    }
   ],
   "source": [
    "import numpy as np\n",
    "import pandas as pd\n",
    "import seaborn as sns\n",
    "import matplotlib.pyplot as plt\n",
    "\n",
    "print(\"libraries all imported, ready to go\")"
   ]
  },
  {
   "cell_type": "code",
   "execution_count": 15,
   "metadata": {},
   "outputs": [
    {
     "name": "stdout",
     "output_type": "stream",
     "text": [
      "0.5\n",
      "1.0\n",
      "1.5\n",
      "nan\n"
     ]
    }
   ],
   "source": [
    "ls = [1,2,3, np.nan]\n",
    "\n",
    "for value in ls:\n",
    "    print(value/2)"
   ]
  },
  {
   "cell_type": "code",
   "execution_count": 17,
   "metadata": {},
   "outputs": [
    {
     "data": {
      "text/plain": [
       "1"
      ]
     },
     "execution_count": 17,
     "metadata": {},
     "output_type": "execute_result"
    }
   ],
   "source": [
    "7%3"
   ]
  },
  {
   "cell_type": "code",
   "execution_count": 25,
   "metadata": {
    "scrolled": false
   },
   "outputs": [
    {
     "name": "stdout",
     "output_type": "stream",
     "text": [
      "The sum is: 77\n"
     ]
    }
   ],
   "source": [
    "def addition (x,y):\n",
    "    sum = x+y;\n",
    "    return sum;\n",
    "number1=33\n",
    "number2=44\n",
    "print(\"The sum is:\", addition(number1,number2))"
   ]
  },
  {
   "cell_type": "code",
   "execution_count": 27,
   "metadata": {},
   "outputs": [
    {
     "name": "stdout",
     "output_type": "stream",
     "text": [
      "Is a smaller than b? True\n",
      "Is a equal to b? False\n",
      "Is a not equal to b? True\n"
     ]
    }
   ],
   "source": [
    "a = 10\n",
    "b = 20\n",
    "print(\"Is a smaller than b?\", a < b)\n",
    "print(\"Is a equal to b?\", a == b)\n",
    "print(\"Is a not equal to b?\", a != b)"
   ]
  },
  {
   "cell_type": "code",
   "execution_count": 46,
   "metadata": {},
   "outputs": [
    {
     "ename": "SyntaxError",
     "evalue": "invalid syntax (<ipython-input-46-ac0cc8e59634>, line 1)",
     "output_type": "error",
     "traceback": [
      "\u001b[1;36m  File \u001b[1;32m\"<ipython-input-46-ac0cc8e59634>\"\u001b[1;36m, line \u001b[1;32m1\u001b[0m\n\u001b[1;33m    print(\"Is 'testing' the same as '\"testing?\"'\", 'testing' == \"testing\")\u001b[0m\n\u001b[1;37m                                            ^\u001b[0m\n\u001b[1;31mSyntaxError\u001b[0m\u001b[1;31m:\u001b[0m invalid syntax\n"
     ]
    }
   ],
   "source": [
    "print(\"Is 'testing' the same as '\"testing?\"'\", 'testing' == \"testing\")"
   ]
  },
  {
   "cell_type": "code",
   "execution_count": 7,
   "metadata": {},
   "outputs": [
    {
     "name": "stdout",
     "output_type": "stream",
     "text": [
      "True\n"
     ]
    }
   ],
   "source": [
    "print(1 == 1 and not (1 == 0))\n"
   ]
  },
  {
   "cell_type": "code",
   "execution_count": 15,
   "metadata": {},
   "outputs": [
    {
     "name": "stdout",
     "output_type": "stream",
     "text": [
      "Is 'testing' == \"testing\"\n"
     ]
    }
   ],
   "source": [
    "sentence = '''Is 'testing' == \"testing\"'''\n",
    "print(sentence)"
   ]
  },
  {
   "cell_type": "code",
   "execution_count": 16,
   "metadata": {},
   "outputs": [
    {
     "data": {
      "text/plain": [
       "True"
      ]
     },
     "execution_count": 16,
     "metadata": {},
     "output_type": "execute_result"
    }
   ],
   "source": [
    "'testing' == \"testing\""
   ]
  },
  {
   "cell_type": "code",
   "execution_count": 17,
   "metadata": {},
   "outputs": [
    {
     "name": "stdout",
     "output_type": "stream",
     "text": [
      "15\n"
     ]
    }
   ],
   "source": [
    "def add(x, y):\n",
    "    return x+y\n",
    "\n",
    "z = add(10, 5)\n",
    "print(z)"
   ]
  },
  {
   "cell_type": "code",
   "execution_count": 26,
   "metadata": {},
   "outputs": [
    {
     "name": "stdout",
     "output_type": "stream",
     "text": [
      "930\n"
     ]
    }
   ],
   "source": [
    "def force(m,a):\n",
    "    return m*a\n",
    "\n",
    "F_1 = force(10,93)\n",
    "print(F_1)"
   ]
  },
  {
   "cell_type": "code",
   "execution_count": 51,
   "metadata": {},
   "outputs": [
    {
     "data": {
      "text/plain": [
       "3"
      ]
     },
     "execution_count": 51,
     "metadata": {},
     "output_type": "execute_result"
    }
   ],
   "source": [
    "# Addition\n",
    "def addition(a, b): # Define function name\n",
    "    \"\"\"\n",
    "    I am a docstring, this function is used for addition\n",
    "    \"\"\"\n",
    "    return (a + b)  # Return function will return the answer when you call the function like below\n",
    "\n",
    "addition(1, 2)"
   ]
  },
  {
   "cell_type": "code",
   "execution_count": 56,
   "metadata": {},
   "outputs": [
    {
     "name": "stdout",
     "output_type": "stream",
     "text": [
      "You have 10 cheeses!\n",
      "You have 100 boxes of crackers!\n",
      "Man that's enough for a party!\n",
      "Get \n",
      " a \n",
      " blanket.\n",
      "\n"
     ]
    }
   ],
   "source": [
    "def cheese_and_crackers(cheese_count, boxes_of_crackers):\n",
    "    print (\"You have %d cheeses!\" % cheese_count)\n",
    "    print (\"You have %d boxes of crackers!\" % boxes_of_crackers)\n",
    "    print (\"Man that's enough for a party!\")\n",
    "    print (\"Get \\n a \\n blanket.\\n\")\n",
    "\n",
    "cheese_and_crackers(10,100)"
   ]
  },
  {
   "cell_type": "code",
   "execution_count": 57,
   "metadata": {},
   "outputs": [
    {
     "data": {
      "text/plain": [
       "100"
      ]
     },
     "execution_count": 57,
     "metadata": {},
     "output_type": "execute_result"
    }
   ],
   "source": [
    "# Write a function that square its input\n",
    "def square_input(happy):\n",
    "    return happy ** 2\n",
    "square_input(10)"
   ]
  },
  {
   "cell_type": "code",
   "execution_count": 1,
   "metadata": {},
   "outputs": [
    {
     "name": "stdout",
     "output_type": "stream",
     "text": [
      "How many pounds does your suitcase weigh?2\n",
      "We will not charge you any extra\n",
      "Thank you for your business.\n"
     ]
    }
   ],
   "source": [
    "weight = float(input(\"How many pounds does your suitcase weigh?\"))\n",
    "if weight > 50:\n",
    "    print(\"There is a $25 charge for luggage that heavy.\")\n",
    "else:\n",
    "    print(\"We will not charge you any extra\")\n",
    "    print(\"Thank you for your business.\")"
   ]
  },
  {
   "cell_type": "code",
   "execution_count": 3,
   "metadata": {},
   "outputs": [
    {
     "name": "stdout",
     "output_type": "stream",
     "text": [
      "How high?60\n",
      "short\n"
     ]
    }
   ],
   "source": [
    "height = float(input(\"How high?\"))\n",
    "if height > 100:\n",
    "    print(\"high\")\n",
    "else:\n",
    "    print(\"short\")"
   ]
  },
  {
   "cell_type": "code",
   "execution_count": 6,
   "metadata": {},
   "outputs": [
    {
     "name": "stdout",
     "output_type": "stream",
     "text": [
      "This is \n",
      "the first\n",
      "Multi-line string.\n",
      "\n"
     ]
    }
   ],
   "source": [
    "str1='''This is \n",
    "the first\n",
    "Multi-line string.\n",
    "'''\n",
    "print(str1)\n"
   ]
  },
  {
   "cell_type": "code",
   "execution_count": 7,
   "metadata": {},
   "outputs": [
    {
     "name": "stdout",
     "output_type": "stream",
     "text": [
      "id:  1\n",
      "First Name:  Steve\n",
      "Last Name:  Jobs\n"
     ]
    }
   ],
   "source": [
    "print('id: ', 1)\n",
    "print('First Name: ', 'Steve')\n",
    "print('Last Name: ', 'Jobs')"
   ]
  },
  {
   "cell_type": "code",
   "execution_count": 8,
   "metadata": {},
   "outputs": [
    {
     "name": "stdout",
     "output_type": "stream",
     "text": [
      "Hello World!\n"
     ]
    }
   ],
   "source": [
    "if 100 > 99 and \\\n",
    "    200 <= 300 and \\\n",
    "    True != False:\n",
    "        print('Hello World!')"
   ]
  },
  {
   "cell_type": "code",
   "execution_count": 14,
   "metadata": {},
   "outputs": [
    {
     "name": "stdout",
     "output_type": "stream",
     "text": [
      "Hello World!\n"
     ]
    }
   ],
   "source": [
    "print('Hello World!') # a multi-line statement\n"
   ]
  },
  {
   "cell_type": "code",
   "execution_count": 15,
   "metadata": {},
   "outputs": [
    {
     "name": "stdout",
     "output_type": "stream",
     "text": [
      "id:  1\n",
      "First Name:  Steve\n",
      "Last Name:  Jobs\n"
     ]
    }
   ],
   "source": [
    "print('id: ', 1);print('First Name: ', 'Steve');print('Last Name: ', 'Jobs')"
   ]
  },
  {
   "cell_type": "code",
   "execution_count": 28,
   "metadata": {},
   "outputs": [
    {
     "name": "stdout",
     "output_type": "stream",
     "text": [
      "Hello  Cherie\n",
      "Welcome to Python Tutorials\n"
     ]
    }
   ],
   "source": [
    "def Sayhello(name):\n",
    "    print(\"Hello \", name)\n",
    "    \"\"\"\n",
    "    sds\n",
    "    \"\"\"\n",
    "    print(\"Welcome to Python Tutorials\")\n",
    "\n",
    "Sayhello(\"Cherie\")"
   ]
  },
  {
   "cell_type": "code",
   "execution_count": 32,
   "metadata": {},
   "outputs": [
    {
     "data": {
      "text/plain": [
       "str"
      ]
     },
     "execution_count": 32,
     "metadata": {},
     "output_type": "execute_result"
    }
   ],
   "source": [
    "num = 20\n",
    "type(num)\n",
    "\n",
    "s = \"python\"\n",
    "type(s)"
   ]
  },
  {
   "cell_type": "code",
   "execution_count": 36,
   "metadata": {},
   "outputs": [
    {
     "name": "stdout",
     "output_type": "stream",
     "text": [
      "3\n"
     ]
    }
   ],
   "source": [
    "a = 2\n",
    "a += 1\n",
    "print(a)"
   ]
  },
  {
   "cell_type": "code",
   "execution_count": 37,
   "metadata": {},
   "outputs": [
    {
     "data": {
      "text/plain": [
       "216"
      ]
     },
     "execution_count": 37,
     "metadata": {},
     "output_type": "execute_result"
    }
   ],
   "source": [
    "0b11011000 "
   ]
  },
  {
   "cell_type": "code",
   "execution_count": 38,
   "metadata": {},
   "outputs": [
    {
     "data": {
      "text/plain": [
       "float"
      ]
     },
     "execution_count": 38,
     "metadata": {},
     "output_type": "execute_result"
    }
   ],
   "source": [
    "type(1.1)"
   ]
  },
  {
   "cell_type": "code",
   "execution_count": 58,
   "metadata": {},
   "outputs": [
    {
     "data": {
      "text/plain": [
       "17"
      ]
     },
     "execution_count": 58,
     "metadata": {},
     "output_type": "execute_result"
    }
   ],
   "source": [
    "int('101',4)"
   ]
  },
  {
   "cell_type": "code",
   "execution_count": 60,
   "metadata": {},
   "outputs": [
    {
     "data": {
      "text/plain": [
       "'100'"
      ]
     },
     "execution_count": 60,
     "metadata": {},
     "output_type": "execute_result"
    }
   ],
   "source": [
    "str(100)\n"
   ]
  },
  {
   "cell_type": "code",
   "execution_count": 69,
   "metadata": {},
   "outputs": [
    {
     "name": "stdout",
     "output_type": "stream",
     "text": [
      "1\n",
      "2\n",
      "[4, 5, 6, [7, 8, [9]]]\n"
     ]
    }
   ],
   "source": [
    "names=[1, 2, 3, [4, 5, 6, [7, 8, [9]]], 10] \n",
    "print(names[0]) # returns 1\n",
    "print(names[1]) # returns 2\n",
    "print(names[3])"
   ]
  },
  {
   "cell_type": "code",
   "execution_count": 71,
   "metadata": {},
   "outputs": [
    {
     "data": {
      "text/plain": [
       "tuple"
      ]
     },
     "execution_count": 71,
     "metadata": {},
     "output_type": "execute_result"
    }
   ],
   "source": [
    "names = ('Jeff', 'Bill', 'Steve', 'Yash')\n",
    "type(names)"
   ]
  },
  {
   "cell_type": "code",
   "execution_count": 75,
   "metadata": {},
   "outputs": [
    {
     "name": "stdout",
     "output_type": "stream",
     "text": [
      "num =  1\n",
      "num =  2\n",
      "num =  3\n",
      "num =  4\n",
      "num =  5\n"
     ]
    }
   ],
   "source": [
    "num = 0\n",
    "\n",
    "while num < 5:\n",
    "    num = num + 1\n",
    "    print ('num = ', num)"
   ]
  },
  {
   "cell_type": "code",
   "execution_count": 73,
   "metadata": {},
   "outputs": [
    {
     "name": "stdout",
     "output_type": "stream",
     "text": [
      "num = 1\n",
      "num = 2\n",
      "num = 3\n"
     ]
    }
   ],
   "source": [
    "num = 0\n",
    "\n",
    "while num < 5:\n",
    "    num += 1\n",
    "    print ('num =', num)\n",
    "    if num == 3:\n",
    "        break"
   ]
  },
  {
   "cell_type": "code",
   "execution_count": 87,
   "metadata": {},
   "outputs": [
    {
     "name": "stdout",
     "output_type": "stream",
     "text": [
      "Current Letter : P\n",
      "Current Letter : y\n",
      "Current Letter : t\n",
      "Current Letter : o\n",
      "Current Letter : n\n",
      "Current variable value : 9\n",
      "Current variable value : 8\n",
      "Current variable value : 7\n",
      "Current variable value : 6\n",
      "Current variable value : 4\n",
      "Current variable value : 3\n",
      "Current variable value : 2\n",
      "Current variable value : 1\n",
      "Current variable value : 0\n",
      "Good bye!\n"
     ]
    }
   ],
   "source": [
    "for letter in 'Python':     # First Example\n",
    "    if letter == 'h':\n",
    "        continue\n",
    "    print (\"Current Letter :\", letter)\n",
    "\n",
    "var = 10                    # Second Example\n",
    "while var > 0:              \n",
    "    var = var - 1\n",
    "    if var == 5:\n",
    "        continue\n",
    "    print (\"Current variable value :\", var)\n",
    "print (\"Good bye!\")"
   ]
  },
  {
   "cell_type": "code",
   "execution_count": 89,
   "metadata": {},
   "outputs": [
    {
     "name": "stdout",
     "output_type": "stream",
     "text": [
      "enter any number .. -1 to exit: 2\n",
      "enter any number .. -1 to exit: 2\n",
      "enter any number .. -1 to exit: 3\n",
      "enter any number .. -1 to exit: 5\n",
      "enter any number .. -1 to exit: 0\n",
      "enter any number .. -1 to exit: -1\n",
      "Total numbers:  5 , Average:  2.4\n"
     ]
    }
   ],
   "source": [
    "num=0\n",
    "count=0\n",
    "sum=0\n",
    "\n",
    "while num>=0:\n",
    "    num = int(input('enter any number .. -1 to exit: '))\n",
    "    if num >= 0:\n",
    "        count = count + 1 # this counts number of inputs\n",
    "        sum = sum + num # this adds input number cumulatively.\n",
    "avg = sum/count\n",
    "print('Total numbers: ', count, ', Average: ', avg)"
   ]
  },
  {
   "cell_type": "code",
   "execution_count": 90,
   "metadata": {},
   "outputs": [
    {
     "name": "stdout",
     "output_type": "stream",
     "text": [
      "10\n",
      "20\n",
      "30\n",
      "40\n",
      "50\n"
     ]
    }
   ],
   "source": [
    "nums = [10, 20, 30, 40, 50]\n",
    "\n",
    "for i in nums:\n",
    "    print(i)"
   ]
  },
  {
   "cell_type": "code",
   "execution_count": 91,
   "metadata": {},
   "outputs": [
    {
     "name": "stdout",
     "output_type": "stream",
     "text": [
      "H\n",
      "e\n",
      "l\n",
      "l\n",
      "o\n"
     ]
    }
   ],
   "source": [
    "for char in 'Hello':\n",
    "    print (char)"
   ]
  },
  {
   "cell_type": "code",
   "execution_count": 92,
   "metadata": {},
   "outputs": [],
   "source": [
    "# dictionary: unordered collection that contains key:value pairs\n",
    "capitals = {\"USA\":\"Washington D.C.\", \"France\":\"Paris\", \"India\":\"New Delhi\"}"
   ]
  },
  {
   "cell_type": "code",
   "execution_count": 95,
   "metadata": {},
   "outputs": [
    {
     "name": "stdout",
     "output_type": "stream",
     "text": [
      "dict_items([('I', 1), ('II', 2), ('III', 3), ('IV', 4)])\n",
      "Dictionary View Object:  dict_items([('I', 1), ('II', 2), ('III', 3), ('IV', 4)])\n",
      "Dictionary View Object after adding new element:  dict_items([('I', 1), ('II', 2), ('III', 3), ('IV', 4), ('V', 5)])\n"
     ]
    }
   ],
   "source": [
    "# Dictionary items()\n",
    "# dict.items() return a dictionary view object\n",
    "\n",
    "romanNums = {'I':1,'II':2,'III':3,'IV':4}\n",
    "dictview = romanNums.items()\n",
    "print(dictview)\n",
    "\n",
    "romanNums = {'I':1,'II':2,'III':3,'IV':4}\n",
    "dictview_1 = romanNums.items()\n",
    "print(\"Dictionary View Object: \", dictview_1)\n",
    "romanNums['V'] = 5\n",
    "print(\"Dictionary View Object after adding new element: \", dictview_1)"
   ]
  },
  {
   "cell_type": "code",
   "execution_count": 97,
   "metadata": {},
   "outputs": [
    {
     "name": "stdout",
     "output_type": "stream",
     "text": [
      "(1, 'One')\n",
      "(2, 'Two')\n",
      "(3, 'Three')\n"
     ]
    }
   ],
   "source": [
    "numNames = { 1:'One', 2: 'Two', 3: 'Three'}\n",
    "\n",
    "for pair in numNames.items():\n",
    "    print(pair)"
   ]
  },
  {
   "cell_type": "code",
   "execution_count": 98,
   "metadata": {},
   "outputs": [
    {
     "name": "stdout",
     "output_type": "stream",
     "text": [
      "key =  1 , value = One\n",
      "key =  2 , value = Two\n",
      "key =  3 , value = Three\n"
     ]
    }
   ],
   "source": [
    "numNames = { 1:'One', 2: 'Two', 3: 'Three'}\n",
    "\n",
    "for k,v in numNames.items():\n",
    "    print(\"key = \", k , \", value =\", v)"
   ]
  },
  {
   "cell_type": "code",
   "execution_count": 99,
   "metadata": {},
   "outputs": [
    {
     "name": "stdout",
     "output_type": "stream",
     "text": [
      "0\n",
      "1\n",
      "2\n",
      "3\n",
      "4\n"
     ]
    }
   ],
   "source": [
    "for i in range(5):\n",
    "    print(i)"
   ]
  },
  {
   "cell_type": "code",
   "execution_count": 100,
   "metadata": {},
   "outputs": [
    {
     "name": "stdout",
     "output_type": "stream",
     "text": [
      "1\n",
      "2\n",
      "3\n",
      "4\n"
     ]
    }
   ],
   "source": [
    "for i in range(1, 5):\n",
    "    print(i)"
   ]
  },
  {
   "cell_type": "code",
   "execution_count": 104,
   "metadata": {},
   "outputs": [
    {
     "name": "stdout",
     "output_type": "stream",
     "text": [
      "1\n",
      "2\n"
     ]
    }
   ],
   "source": [
    "for i in range(1, 5):\n",
    "    if i > 2:\n",
    "        break\n",
    "    print(i)"
   ]
  },
  {
   "cell_type": "code",
   "execution_count": 106,
   "metadata": {},
   "outputs": [
    {
     "name": "stdout",
     "output_type": "stream",
     "text": [
      "1\n",
      "2\n",
      "4\n"
     ]
    }
   ],
   "source": [
    "for i in range(1, 5):\n",
    "    if i == 3:\n",
    "        continue\n",
    "    print(i)"
   ]
  },
  {
   "cell_type": "code",
   "execution_count": 107,
   "metadata": {},
   "outputs": [
    {
     "name": "stdout",
     "output_type": "stream",
     "text": [
      "0\n",
      "1\n",
      "2\n",
      "End of for loop\n"
     ]
    }
   ],
   "source": [
    "for i in range(3):\n",
    "    print(i)\n",
    "else:\n",
    "     print('End of for loop')"
   ]
  },
  {
   "cell_type": "code",
   "execution_count": 108,
   "metadata": {},
   "outputs": [
    {
     "name": "stdout",
     "output_type": "stream",
     "text": [
      "x =  1 , y =  1\n",
      "x =  1 , y =  2\n",
      "x =  2 , y =  1\n",
      "x =  2 , y =  2\n",
      "x =  3 , y =  1\n",
      "x =  3 , y =  2\n"
     ]
    }
   ],
   "source": [
    "for x in range(1,4):\n",
    "    for y in range(1,3):\n",
    "        print('x = ', x, ', y = ', y)"
   ]
  },
  {
   "cell_type": "code",
   "execution_count": 109,
   "metadata": {},
   "outputs": [
    {
     "name": "stdout",
     "output_type": "stream",
     "text": [
      "Variable     Type          Data/Info\n",
      "------------------------------------\n",
      "SayHello     function      <function SayHello at 0x05292ED0>\n",
      "Sayhello     function      <function Sayhello at 0x05D7F618>\n",
      "a            int           3\n",
      "avg          float         2.4\n",
      "capitals     dict          n=3\n",
      "char         str           o\n",
      "count        int           5\n",
      "dictview     dict_items    dict_items([('I', 1), ('I<...>, ('III', 3), ('IV', 4)])\n",
      "dictview_1   dict_items    dict_items([('I', 1), ('I<...>3), ('IV', 4), ('V', 5)])\n",
      "greet        str           hello\n",
      "height       float         60.0\n",
      "i            int           2\n",
      "k            int           3\n",
      "letter       str           n\n",
      "names        tuple         n=4\n",
      "num          int           -1\n",
      "numNames     dict          n=3\n",
      "nums         list          n=5\n",
      "pair         tuple         n=2\n",
      "romanNums    dict          n=5\n",
      "s            str           python\n",
      "str1         str           This is \\nthe first\\nMulti-line string.\\n\n",
      "sum          int           12\n",
      "v            str           Three\n",
      "var          int           0\n",
      "weight       float         2.0\n",
      "x            int           3\n",
      "y            int           2\n"
     ]
    }
   ],
   "source": [
    "%whos"
   ]
  },
  {
   "cell_type": "code",
   "execution_count": null,
   "metadata": {},
   "outputs": [],
   "source": []
  }
 ],
 "metadata": {
  "kernelspec": {
   "display_name": "Python 3",
   "language": "python",
   "name": "python3"
  },
  "language_info": {
   "codemirror_mode": {
    "name": "ipython",
    "version": 3
   },
   "file_extension": ".py",
   "mimetype": "text/x-python",
   "name": "python",
   "nbconvert_exporter": "python",
   "pygments_lexer": "ipython3",
   "version": "3.7.6"
  }
 },
 "nbformat": 4,
 "nbformat_minor": 4
}
